{
  "nbformat": 4,
  "nbformat_minor": 0,
  "metadata": {
    "colab": {
      "name": "Facenet.ipynb",
      "provenance": [],
      "collapsed_sections": []
    },
    "kernelspec": {
      "name": "python3",
      "display_name": "Python 3"
    }
  },
  "cells": [
    {
      "cell_type": "markdown",
      "metadata": {
        "id": "jsVG7DrJ173J"
      },
      "source": [
        "# 1. Set Up"
      ]
    },
    {
      "cell_type": "code",
      "metadata": {
        "id": "x7-7UKlDGA40",
        "outputId": "7372b926-89a8-4b31-8e74-639ee749a9ea",
        "colab": {
          "base_uri": "https://localhost:8080/",
          "height": 190
        }
      },
      "source": [
        "#install mtcnn\n",
        "!pip install mtcnn\n",
        "\n",
        "#mount Goolge Drive\n",
        "from google.colab import drive\n",
        "drive.mount('/content/gdrive')\n",
        "\n",
        "#set file path\n",
        "path = \"/content/gdrive/My Drive/iss/project/\""
      ],
      "execution_count": null,
      "outputs": [
        {
          "output_type": "stream",
          "text": [
            "Requirement already satisfied: mtcnn in /usr/local/lib/python3.6/dist-packages (0.1.0)\n",
            "Requirement already satisfied: keras>=2.0.0 in /usr/local/lib/python3.6/dist-packages (from mtcnn) (2.4.3)\n",
            "Requirement already satisfied: opencv-python>=4.1.0 in /usr/local/lib/python3.6/dist-packages (from mtcnn) (4.1.2.30)\n",
            "Requirement already satisfied: h5py in /usr/local/lib/python3.6/dist-packages (from keras>=2.0.0->mtcnn) (2.10.0)\n",
            "Requirement already satisfied: numpy>=1.9.1 in /usr/local/lib/python3.6/dist-packages (from keras>=2.0.0->mtcnn) (1.18.5)\n",
            "Requirement already satisfied: scipy>=0.14 in /usr/local/lib/python3.6/dist-packages (from keras>=2.0.0->mtcnn) (1.4.1)\n",
            "Requirement already satisfied: pyyaml in /usr/local/lib/python3.6/dist-packages (from keras>=2.0.0->mtcnn) (3.13)\n",
            "Requirement already satisfied: six in /usr/local/lib/python3.6/dist-packages (from h5py->keras>=2.0.0->mtcnn) (1.15.0)\n",
            "Drive already mounted at /content/gdrive; to attempt to forcibly remount, call drive.mount(\"/content/gdrive\", force_remount=True).\n"
          ],
          "name": "stdout"
        }
      ]
    },
    {
      "cell_type": "code",
      "metadata": {
        "id": "NRTfC5LM2Lwu"
      },
      "source": [
        "#import library\n",
        "import tensorflow as tf\n",
        "from tensorflow import keras\n",
        "from tensorflow.keras import Sequential\n",
        "from tensorflow.keras.layers import Conv2D, ZeroPadding2D, Activation, Input, concatenate\n",
        "from tensorflow.keras.models import Model\n",
        "from tensorflow.keras.layers import BatchNormalization\n",
        "from tensorflow.keras.layers import MaxPooling2D, AveragePooling2D\n",
        "from tensorflow.keras.layers import Concatenate\n",
        "from tensorflow.keras.layers import Lambda, Flatten, Dense\n",
        "from tensorflow.keras.initializers import glorot_uniform\n",
        "from tensorflow.keras import layers\n",
        "import cv2\n",
        "import os\n",
        "import numpy as np\n",
        "from numpy import genfromtxt\n",
        "import pandas as pd\n",
        "import h5py\n",
        "import matplotlib.pyplot as plt\n",
        "\n",
        "import mtcnn\n",
        "from mtcnn.mtcnn import MTCNN\n",
        "from matplotlib import pyplot as plt\n",
        "from tensorflow.keras.models import load_model\n",
        "from scipy.spatial.distance import cosine\n",
        "from PIL import Image\n",
        "from tensorflow.keras import backend as K\n",
        "\n",
        "if K.backend()=='tensorflow':\n",
        "    keras.backend.set_image_data_format(\"channels_last\")\n",
        "\n",
        "%matplotlib inline\n",
        "%load_ext autoreload\n",
        "%autoreload 2"
      ],
      "execution_count": null,
      "outputs": []
    },
    {
      "cell_type": "markdown",
      "metadata": {
        "id": "1hhD32l62syW"
      },
      "source": [
        "# 2. Data Processing"
      ]
    },
    {
      "cell_type": "code",
      "metadata": {
        "id": "_Py4mHaI2ruF"
      },
      "source": [
        "# create the detector, using default weights\n",
        "detector = MTCNN()\n",
        "def extract_face(filename, required_size=(160, 160)):\n",
        "    image = Image.open(filename)\n",
        "    # convert to RGB, if needed\n",
        "    image = image.convert('RGB')\n",
        "    # convert to array\n",
        "    pixels = np.asarray(image)\n",
        "    # detect faces in the image\n",
        "    results = detector.detect_faces(pixels)\n",
        "    # extract the bounding box from the first face\n",
        "    x1, y1, width, height = results[0]['box']\n",
        "    # deal with negative pixel index\n",
        "    x1, y1 = abs(x1), abs(y1)\n",
        "    x2, y2 = x1 + width, y1 + height\n",
        "    # extract the face\n",
        "    face = pixels[y1:y2, x1:x2]\n",
        "    # resize pixels to the model size\n",
        "    image = Image.fromarray(face)\n",
        "    image = image.resize(required_size)\n",
        "    face_array = np.asarray(image)\n",
        "    return face_array\n",
        "\n"
      ],
      "execution_count": null,
      "outputs": []
    },
    {
      "cell_type": "markdown",
      "metadata": {
        "id": "hjMf0W3F3Bsv"
      },
      "source": [
        "# 3. Load Model"
      ]
    },
    {
      "cell_type": "code",
      "metadata": {
        "id": "CJIW_4dC3GOc",
        "outputId": "8ce42850-bf7c-4959-d6a7-4287b553cd77",
        "colab": {
          "base_uri": "https://localhost:8080/",
          "height": 54
        }
      },
      "source": [
        "#Define Triplet_loss\n",
        "def triplet_loss(y_true, y_pred, alpha = 0.2):\n",
        "    \n",
        "    anchor, positive, negative = y_pred[0], y_pred[1], y_pred[2]\n",
        "  \n",
        "    # Step 1: Compute the (encoding) distance between the anchor and the positive\n",
        "    pos_dist = tf.reduce_sum(tf.square(tf.subtract(anchor, positive)), axis=-1)\n",
        "    # Step 2: Compute the (encoding) distance between the anchor and the negative\n",
        "    neg_dist = tf.reduce_sum(tf.square(tf.subtract(anchor, negative)), axis=-1)\n",
        "    # Step 3: subtract the two previous distances and add alpha.\n",
        "    basic_loss = tf.add(tf.subtract(pos_dist, neg_dist), alpha)\n",
        "    # Step 4: Take the maximum of basic_loss and 0.0. Sum over the training examples.\n",
        "    loss = tf.reduce_sum(tf.maximum(basic_loss, 0.0))\n",
        "    \n",
        "    return loss\n",
        "\n",
        "#load pre-trained FaceNet Model\n",
        "facenet_model = load_model(path+'facenet_keras.h5', custom_objects={ 'loss': triplet_loss })"
      ],
      "execution_count": null,
      "outputs": [
        {
          "output_type": "stream",
          "text": [
            "WARNING:tensorflow:No training configuration found in the save file, so the model was *not* compiled. Compile it manually.\n"
          ],
          "name": "stdout"
        }
      ]
    },
    {
      "cell_type": "markdown",
      "metadata": {
        "id": "18ZgM-VT3dw-"
      },
      "source": [
        "# 4. Get image encoding"
      ]
    },
    {
      "cell_type": "code",
      "metadata": {
        "id": "v_hMuVit3dR8"
      },
      "source": [
        "from sklearn.preprocessing import Normalizer\n",
        "in_encoder = Normalizer('l2')\n",
        "\n",
        "def get_embedding(model, face):\n",
        "    # scale pixel values\n",
        "    face = face.astype('float32')\n",
        "    # standardization\n",
        "    mean, std = face.mean(), face.std()\n",
        "    face = (face - mean) / std\n",
        "    print(face.shape)\n",
        "    face = cv2.resize(face,(160,160))\n",
        "    face = np.expand_dims(face, axis=0)\n",
        "    print(face.shape)\n",
        "    encode = model.predict(face)[0]\n",
        "    print(encode)\n",
        "    return encode\n",
        "\n",
        "def who_is_it(image_path, database, model):\n",
        "    \n",
        "    #Compute the target \"encoding\" for the image\n",
        "    face = extract_face(image_path)\n",
        "    encoding = get_embedding(facenet_model,face)\n",
        "    encoding = in_encoder.transform(np.expand_dims(encoding, axis=0))[0]\n",
        "    \n",
        "    # Initialize \"min_dist\" to a large value\n",
        "    min_dist = float(\"inf\")\n",
        "    \n",
        "    # Loop over the database dictionary's names and encodings.\n",
        "    for (name, db_enc) in database.items():\n",
        "        \n",
        "        # Compute L2 distance between the target \"encoding\" and the current db_enc\n",
        "        dist = cosine(db_enc,encoding)\n",
        "\n",
        "        # If this distance is less than the min_dist, then set min_dist to dist, and identity to name\n",
        "        if dist < 0.5 and dist < min_dist:\n",
        "            min_dist = dist\n",
        "            identity = name\n",
        "\n",
        "    \n",
        "    if min_dist > 0.5:\n",
        "        print(\"Not in the database.\")\n",
        "    else:\n",
        "        print (\"it's \" + str(identity) + \", the distance is \" + str(min_dist))\n",
        "        \n",
        "    return min_dist, identity"
      ],
      "execution_count": null,
      "outputs": []
    },
    {
      "cell_type": "markdown",
      "metadata": {
        "id": "vQGVrGtZ4j5r"
      },
      "source": [
        "# 5. Build image encoding library"
      ]
    },
    {
      "cell_type": "code",
      "metadata": {
        "id": "EA4QXEoT4oHo",
        "outputId": "af952bd4-2e24-429c-d0d7-7cdaae05ea74",
        "colab": {
          "base_uri": "https://localhost:8080/",
          "height": 1000
        }
      },
      "source": [
        "database = {}\n",
        "ben_face = extract_face(path+\"/data/5 Celebrity Faces Dataset/val/ben_afflek/httpabsolumentgratuitfreefrimagesbenaffleckjpg.jpg\")\n",
        "database[\"ben_afflek\"] = get_embedding(facenet_model,ben_face)\n",
        "#print(get_embedding(facenet_model,ben_face).shape)\n",
        "a_face = extract_face(path+\"/data/5 Celebrity Faces Dataset/val/austin/photo_2020-09-26_05-37-27 (4).jpg\")\n",
        "database[\"austin\"] = get_embedding(facenet_model,a_face)\n",
        "a_face = extract_face(path+\"/data/5 Celebrity Faces Dataset/val/madonna/httpecximagesamazoncomimagesIfmaBKWLACULSRjpg.jpg\")\n",
        "database[\"madonna\"] = get_embedding(facenet_model,a_face)\n",
        "\n",
        "#test\n",
        "who_is_it(path+\"/data/5 Celebrity Faces Dataset/val/ben_afflek/httpbpblogspotcomedLMjVpRGkSWexgsXjkNIAAAAAAAADWgFFtAUqBlhAsjpg.jpg\",database,facenet_model)\n",
        "who_is_it(path+\"/data/5 Celebrity Faces Dataset/val/austin/photo_2020-09-26_05-37-27.jpg\",database,facenet_model)\n",
        "who_is_it(path+\"/data/5 Celebrity Faces Dataset/val/madonna/httpecximagesamazoncomimagesIfmaBKWLACULSRjpg.jpg\",database,facenet_model)"
      ],
      "execution_count": null,
      "outputs": [
        {
          "output_type": "stream",
          "text": [
            "(160, 160, 3)\n",
            "(1, 160, 160, 3)\n",
            "[-0.35715967  0.56805825 -0.02246208 -1.5599493  -0.22274993  0.31206363\n",
            "  2.2126389  -1.0551347   0.11349715 -0.97813     1.1421908  -0.6536971\n",
            "  0.15160137 -0.74272907  1.1953169  -0.62218195 -2.5768816   0.4588946\n",
            " -0.21730083 -0.24980476  1.5028306  -0.03511811  0.05881213 -0.9723351\n",
            "  0.06294286 -0.41399258  0.96276104 -1.5717623  -0.7984349   1.2099433\n",
            "  0.14957878  0.99214303  1.8099713   0.29607832 -0.6879203   0.42563197\n",
            " -1.5447482  -0.4632311  -0.62419754 -0.8786627   1.4744818  -0.7568308\n",
            " -1.5859734  -0.73545605 -0.45129827 -0.23810981  0.21692064 -0.8924271\n",
            " -0.43760607 -0.24870864 -0.6028922  -1.3944112   1.206109   -0.9149063\n",
            "  0.512636   -0.8122218  -1.5299289   1.0629773   0.93077    -2.1749358\n",
            " -0.87885475 -0.7761552  -1.471464   -1.3767503   0.9563707  -2.4899604\n",
            " -0.2860678  -0.7537708   0.11845914 -0.45969534 -0.26307565 -0.4807784\n",
            " -0.3989519  -1.0307485  -2.9253402  -0.28871417  0.1633484   0.06209685\n",
            " -0.30971226  0.01262298  0.3648509  -0.43470976 -0.5330281  -0.07380823\n",
            "  2.2288387   0.52851623  1.0155048   1.2591052   0.35317332  0.1731722\n",
            "  0.43339556  0.85642767  0.07647088  1.0424103  -0.94261456  0.00461228\n",
            " -0.50700486 -0.831245    1.2831879  -0.01375815 -0.9308527  -0.53006434\n",
            "  1.9985607  -0.7121456  -1.1726387   0.27227682  1.2593555   1.6576382\n",
            "  0.40905184  0.54839635 -0.6665309  -0.6854003  -1.0075613   0.62697226\n",
            "  0.6778502   0.9783262   1.5249969  -0.59676796  0.5873409   1.3809149\n",
            " -0.12169065  2.4254167  -0.44128978  0.64210874 -0.12100658  0.3680795\n",
            " -1.2914201   0.97822034]\n",
            "(160, 160, 3)\n",
            "(1, 160, 160, 3)\n",
            "[-0.8426163  -1.2141074  -0.29109362 -0.1521      0.3616744   0.43772915\n",
            " -1.3501645  -0.951725   -0.4263116   0.5517018  -0.9475533  -0.11955333\n",
            " -0.89559734 -1.4578992   1.8195759   0.05707491  0.6799532  -0.62048274\n",
            " -0.14357151 -0.65072256 -0.59090734 -0.19619091 -0.5793524  -0.5533843\n",
            "  1.3481907  -0.34486914  1.1107622   1.5646186   0.4683026   1.2732755\n",
            "  1.9443157  -0.5521981   0.9487888  -2.584343    0.42026398 -0.6948912\n",
            " -0.04661601 -0.31662405  0.7903389   0.7824861  -1.6153502  -0.32149348\n",
            " -0.06809391 -0.9786474   1.1881336  -0.27183452 -0.9856438   0.07622325\n",
            "  0.18430012  0.55390716 -0.32618797 -0.11754158  1.8695476   0.07050746\n",
            " -0.8577782  -0.00289342 -0.03629551 -0.4832191   0.45488003  0.38392472\n",
            "  1.1247057  -1.2946825   0.07040769  1.1099147  -0.1574862  -0.50753736\n",
            "  1.0930136  -0.1400024  -0.6565117  -0.5920803  -0.45558944 -0.94784105\n",
            "  0.17427924 -1.3979623   1.1542549   0.59048986  1.8385508   1.9202758\n",
            " -0.6323342   1.2204701  -1.9453584   1.400026   -0.88416564  0.7301644\n",
            "  0.11614011 -1.4496976  -0.01025651 -2.1649656  -1.8831093  -0.21659991\n",
            "  0.39094684 -0.854653   -1.6290412  -0.2737182  -0.5226436  -0.48916683\n",
            " -2.3864315   0.62374026 -0.648769   -0.43169576  0.61807793  0.71807724\n",
            "  2.2106214  -0.36611474 -0.1737482   0.22500251 -1.9253986  -0.34135848\n",
            "  0.6042143  -0.62873    -0.49837595 -0.04584758 -0.5424738   0.07425677\n",
            "  1.0901691   0.8599323   0.10565335  1.0523934  -1.8131818   1.9290992\n",
            "  2.1852443  -1.9631643   0.75808394  0.67653567  0.3528679  -1.2798514\n",
            "  0.04387345  0.9159692 ]\n",
            "(160, 160, 3)\n",
            "(1, 160, 160, 3)\n",
            "[ 0.8384701   0.7484422   0.01824732 -0.5520263   1.1847552  -0.61748594\n",
            " -0.35001612  1.5464575   0.29339603  0.2286112  -1.2742091   0.62534004\n",
            "  1.4212137   1.3032491   0.0492869  -0.06070329 -0.90180266 -0.18129683\n",
            "  1.6369168  -1.2818035   0.12717243  0.5379206   0.38959283  0.11346903\n",
            " -1.1037503   0.8350188  -1.5055887   0.51803374  1.1946621  -0.3626505\n",
            " -0.5648153  -1.6867721  -0.2845592  -0.40414414  0.46009922 -0.39810318\n",
            " -0.038674    0.49898317 -0.05661064 -1.0819021  -0.13806367  1.779349\n",
            "  1.1267349   0.61177737 -1.909821    2.2323568  -0.07097694 -0.37675905\n",
            " -0.8881183   1.1755157  -0.82866794  2.2103388  -1.9072956   0.1975857\n",
            "  0.7050319   1.2224245   0.43332484  1.0840648   0.28988707  0.4508898\n",
            "  0.09534282  0.788262    1.0177208   2.177506   -0.22600532  0.6243374\n",
            " -2.57644     0.24330279  0.78537166  0.6201308   0.7347862   0.9765663\n",
            " -0.87024117 -0.02772366  0.04720134  0.4507079  -1.392224   -0.24079768\n",
            " -0.34399045 -0.85582125 -0.3916227  -0.13201664  2.4339573  -0.08669762\n",
            " -0.0038295  -1.8655719   0.12711126  0.9488237  -0.7124051  -1.8498194\n",
            " -0.25380394 -0.08523403  0.5414199  -0.37971932  0.9348071  -0.17689745\n",
            " -0.23791476 -0.64803505  0.407866   -1.1707311  -1.1117157   1.735192\n",
            " -0.2981379   1.0749928   0.14591736 -0.33514953  0.974897    0.49579623\n",
            "  0.04672787 -0.5919442   1.4978249  -1.390477   -0.6871418   2.0660617\n",
            "  0.04039149  0.7396879   2.3063111   1.1082513   0.7925563  -1.4337\n",
            "  0.64926463  2.2293792   0.45792568 -0.9873295  -0.89515185 -1.6043835\n",
            " -0.6927425  -0.9263999 ]\n",
            "(160, 160, 3)\n",
            "(1, 160, 160, 3)\n",
            "[ 0.10562663  0.73067665 -0.82183534  0.1888938   0.87527794 -0.19609754\n",
            "  1.0401157   0.01570871  0.77966666 -1.3039768   1.3961467  -1.4223983\n",
            " -0.12064061 -0.06986573 -0.12590756 -1.0709401  -1.3733897  -1.3225602\n",
            " -1.0209036   0.48259777  1.603218    0.05856516  0.37536174 -0.33682814\n",
            "  0.4167181  -0.69603354 -0.34881276 -0.9882752  -0.22218059  0.3533908\n",
            "  0.3133117  -0.32010472  1.6560321   0.5436071  -1.1059593   1.6999085\n",
            " -1.7553684  -0.87891304 -1.2824888  -0.5198319   0.58387756 -0.1060598\n",
            " -1.0812813   0.12180719 -0.58234245 -0.76262444  0.6324891   1.5062282\n",
            " -1.0330688  -0.30313882  0.09846368 -0.5109899  -0.3815846  -1.3071262\n",
            "  0.42240798 -0.500329    0.37190542  1.4614847   0.9924277  -1.0982237\n",
            " -1.9132953  -1.1896154  -1.4896022  -1.2292444   0.9917186  -1.9669585\n",
            " -1.408165    0.2901137  -1.2015373  -0.6514863   0.11956069 -1.0943879\n",
            " -1.3922875   0.29380888 -2.908704    0.8562991   1.2498257   0.49856165\n",
            " -0.7062761   0.04005057 -0.11204903 -0.33222336  0.6541522  -0.5938997\n",
            "  1.991121    0.07476941  0.69149697  0.8025081   0.6170218  -0.91376805\n",
            "  0.96358186  1.292929    0.7977103   0.832571   -1.1539922   0.05363227\n",
            " -1.4367151  -0.81530696 -1.0061392  -0.24610734 -0.6930385  -1.5025916\n",
            "  0.4642202  -1.2052574  -1.9183211  -0.96090716  2.374018    0.02895371\n",
            "  1.250317    0.804012   -1.3411341  -0.6888598   0.30568928  0.70993084\n",
            "  0.9976584   0.03255921  2.2657723  -1.130149    1.372433    1.5893221\n",
            "  0.37414414  2.0359097  -0.79337955  0.10789521  1.2191843  -0.28860557\n",
            " -0.23621115  1.1749312 ]\n",
            "it's ben_afflek, the distance is 0.32455360889434814\n",
            "(160, 160, 3)\n",
            "(1, 160, 160, 3)\n",
            "[-0.13696304 -1.192329   -0.6158988  -0.2646277   0.5186552   0.56334376\n",
            " -0.9234905  -1.2194898  -0.2995693   0.24688756 -0.83937943  0.12100682\n",
            " -0.6525043  -1.8099711   1.5869317   0.5616696   1.2595727  -0.49239844\n",
            "  0.20541324 -0.34979102 -0.43899915  0.07899753 -0.7387514  -0.5072582\n",
            "  0.8663188  -0.4996962   0.97388697  1.2630683   0.66659987  1.4608928\n",
            "  1.8361375  -0.28745046  0.9779799  -2.3481407   0.41262782 -0.6977307\n",
            " -0.30794603 -0.08168205  0.62910604  0.83975613 -1.5697746  -0.15451847\n",
            "  0.49170914 -0.59470475  1.3515903  -0.2949587  -0.95168686  0.16927186\n",
            " -0.05384798  0.764606   -0.3153274  -0.26258248  1.1863345   0.18523696\n",
            " -0.5449955   0.16546287 -0.5406029  -0.265462    0.03404453  0.16713879\n",
            "  0.52121365 -1.012063    0.30450258  1.1847305  -0.29925436  0.25681603\n",
            "  1.0231655   0.12391602 -0.38604966 -0.81696725 -0.15038133 -1.0744696\n",
            "  0.11692451 -1.1408466   0.8576158   0.6690214   1.1370475   1.197934\n",
            " -0.7246442   0.7949962  -1.6123054   1.5412945  -0.91002744  0.9486353\n",
            "  0.5222184  -1.8042772   0.20070308 -2.1135116  -1.8031708  -0.37337738\n",
            "  0.34487185 -0.5748624  -0.98359734 -0.2867784  -0.76419646 -0.41144478\n",
            " -2.153612    0.5027759  -1.2737343  -0.2890875   0.42930967  0.38513222\n",
            "  2.050101   -0.31456897 -0.66856956 -0.09970021 -1.5733745  -0.47731844\n",
            "  0.3539811  -0.6010983  -0.3213244   0.22513294 -0.03827183 -0.01049531\n",
            "  0.789456    0.50282395 -0.05424412  1.3708775  -1.5067008   1.42392\n",
            "  2.124419   -1.2043422   1.5358843   0.59587747  0.4534359  -1.161162\n",
            " -0.23716578  0.60704595]\n",
            "it's austin, the distance is 0.04780399799346924\n",
            "(160, 160, 3)\n",
            "(1, 160, 160, 3)\n",
            "[ 0.8384701   0.7484422   0.01824732 -0.5520263   1.1847552  -0.61748594\n",
            " -0.35001612  1.5464575   0.29339603  0.2286112  -1.2742091   0.62534004\n",
            "  1.4212137   1.3032491   0.0492869  -0.06070329 -0.90180266 -0.18129683\n",
            "  1.6369168  -1.2818035   0.12717243  0.5379206   0.38959283  0.11346903\n",
            " -1.1037503   0.8350188  -1.5055887   0.51803374  1.1946621  -0.3626505\n",
            " -0.5648153  -1.6867721  -0.2845592  -0.40414414  0.46009922 -0.39810318\n",
            " -0.038674    0.49898317 -0.05661064 -1.0819021  -0.13806367  1.779349\n",
            "  1.1267349   0.61177737 -1.909821    2.2323568  -0.07097694 -0.37675905\n",
            " -0.8881183   1.1755157  -0.82866794  2.2103388  -1.9072956   0.1975857\n",
            "  0.7050319   1.2224245   0.43332484  1.0840648   0.28988707  0.4508898\n",
            "  0.09534282  0.788262    1.0177208   2.177506   -0.22600532  0.6243374\n",
            " -2.57644     0.24330279  0.78537166  0.6201308   0.7347862   0.9765663\n",
            " -0.87024117 -0.02772366  0.04720134  0.4507079  -1.392224   -0.24079768\n",
            " -0.34399045 -0.85582125 -0.3916227  -0.13201664  2.4339573  -0.08669762\n",
            " -0.0038295  -1.8655719   0.12711126  0.9488237  -0.7124051  -1.8498194\n",
            " -0.25380394 -0.08523403  0.5414199  -0.37971932  0.9348071  -0.17689745\n",
            " -0.23791476 -0.64803505  0.407866   -1.1707311  -1.1117157   1.735192\n",
            " -0.2981379   1.0749928   0.14591736 -0.33514953  0.974897    0.49579623\n",
            "  0.04672787 -0.5919442   1.4978249  -1.390477   -0.6871418   2.0660617\n",
            "  0.04039149  0.7396879   2.3063111   1.1082513   0.7925563  -1.4337\n",
            "  0.64926463  2.2293792   0.45792568 -0.9873295  -0.89515185 -1.6043835\n",
            " -0.6927425  -0.9263999 ]\n",
            "it's madonna, the distance is 0.0\n"
          ],
          "name": "stdout"
        },
        {
          "output_type": "execute_result",
          "data": {
            "text/plain": [
              "(0.0, 'madonna')"
            ]
          },
          "metadata": {
            "tags": []
          },
          "execution_count": 56
        }
      ]
    },
    {
      "cell_type": "markdown",
      "metadata": {
        "id": "_t4QARk54-5p"
      },
      "source": [
        "# 6. Output Model and Encoding DB"
      ]
    },
    {
      "cell_type": "code",
      "metadata": {
        "id": "GE5zSQHM4-lB"
      },
      "source": [
        "import csv\n",
        "\n",
        "with open('dict.csv', 'w') as csv_file:  \n",
        "    writer = csv.writer(csv_file)\n",
        "    for key, value in database.items():\n",
        "       value = list(value)\n",
        "       writer.writerow([key, value])\n",
        "    #for key, value in database.items():\n",
        "       #value = list(value)\n",
        "       #value = np.fromstring(value.tostring())\n",
        "       #re.sub(\"\\s+\", \",\", value.strip())\n",
        "       #value = \"[\" + value +\"]\"\n",
        "       #print(value)\n",
        "       #writer.writerow([key, value])"
      ],
      "execution_count": null,
      "outputs": []
    }
  ]
}